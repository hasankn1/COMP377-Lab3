{
 "cells": [
  {
   "cell_type": "code",
   "execution_count": 1,
   "id": "5f5ba43a",
   "metadata": {},
   "outputs": [
    {
     "name": "stdout",
     "output_type": "stream",
     "text": [
      "Iteration 1, loss = 16.82060475\n",
      "Iteration 2, loss = 14.52047396\n",
      "Iteration 3, loss = 7.49160524\n",
      "Iteration 4, loss = 9.56225639\n",
      "Iteration 5, loss = 5.00514860\n",
      "Iteration 6, loss = 0.75966912\n",
      "Iteration 7, loss = 0.18811532\n",
      "Iteration 8, loss = 0.67094775\n",
      "Iteration 9, loss = 1.53702932\n",
      "Iteration 10, loss = 1.71978453\n",
      "Iteration 11, loss = 0.93272249\n",
      "Iteration 12, loss = 0.23375305\n",
      "Iteration 13, loss = 0.00156618\n",
      "Iteration 14, loss = 0.00022089\n",
      "Iteration 15, loss = 0.00022206\n",
      "Iteration 16, loss = 0.00024955\n",
      "Iteration 17, loss = 0.00058316\n",
      "Iteration 18, loss = 0.00259015\n",
      "Iteration 19, loss = 0.00747852\n",
      "Iteration 20, loss = 0.00466199\n",
      "Iteration 21, loss = 0.00142167\n",
      "Iteration 22, loss = 0.00050853\n",
      "Iteration 23, loss = 0.00029220\n",
      "Iteration 24, loss = 0.00023743\n",
      "Iteration 25, loss = 0.00022029\n",
      "Training loss did not improve more than tol=0.000100 for 10 consecutive epochs. Stopping.\n",
      "Accuracy: 0.6\n"
     ]
    }
   ],
   "source": [
    "import tensorflow as tf\n",
    "from sklearn.neural_network import MLPClassifier\n",
    "from sklearn.metrics import accuracy_score\n",
    "from sklearn.model_selection import train_test_split\n",
    "import numpy as np\n",
    "\n",
    "# Load MNIST data using TensorFlow function\n",
    "(x_train, y_train), (x_test, y_test) = tf.keras.datasets.mnist.load_data()\n",
    "\n",
    "# Reshape data for MLPClassifier\n",
    "x_train = x_train.reshape(60000, 784)\n",
    "x_test = x_test.reshape(10000, 784)\n",
    "\n",
    "# Use top 60 rows of training data and top 10 rows of test data\n",
    "x_train = x_train[:60]\n",
    "y_train = y_train[:60]\n",
    "x_test = x_test[:10]\n",
    "y_test = y_test[:10]\n",
    "\n",
    "# Convert target labels to binary classification problem\n",
    "y_train = np.where(y_train < 5, 0, 1)\n",
    "y_test = np.where(y_test < 5, 0, 1)\n",
    "\n",
    "# Initialize MLPClassifier with 2 hidden layers of 100 neurons each\n",
    "mlp = MLPClassifier(hidden_layer_sizes=(100, 100), max_iter=500, alpha=1e-4,\n",
    "                    solver='adam', verbose=10, random_state=42,\n",
    "                    tol=1e-4, activation='relu')\n",
    "\n",
    "# Train MLPClassifier on training data\n",
    "mlp.fit(x_train, y_train)\n",
    "\n",
    "# Make predictions on test data\n",
    "y_pred = mlp.predict(x_test)\n",
    "\n",
    "# Calculate accuracy score\n",
    "accuracy = accuracy_score(y_test, y_pred)\n",
    "\n",
    "print(\"Accuracy:\", accuracy)\n"
   ]
  },
  {
   "cell_type": "code",
   "execution_count": null,
   "id": "a0cf8b09",
   "metadata": {},
   "outputs": [],
   "source": []
  }
 ],
 "metadata": {
  "kernelspec": {
   "display_name": "Python 3 (ipykernel)",
   "language": "python",
   "name": "python3"
  },
  "language_info": {
   "codemirror_mode": {
    "name": "ipython",
    "version": 3
   },
   "file_extension": ".py",
   "mimetype": "text/x-python",
   "name": "python",
   "nbconvert_exporter": "python",
   "pygments_lexer": "ipython3",
   "version": "3.10.9"
  }
 },
 "nbformat": 4,
 "nbformat_minor": 5
}
